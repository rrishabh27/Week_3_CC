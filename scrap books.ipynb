{
 "cells": [
  {
   "cell_type": "code",
   "execution_count": 7,
   "id": "e4f75358",
   "metadata": {},
   "outputs": [],
   "source": [
    "import requests\n",
    "from bs4 import BeautifulSoup"
   ]
  },
  {
   "cell_type": "code",
   "execution_count": 8,
   "id": "c0a359f3",
   "metadata": {},
   "outputs": [
    {
     "name": "stdout",
     "output_type": "stream",
     "text": [
      "request successful\n"
     ]
    }
   ],
   "source": [
    "site_url = 'https://books.toscrape.com/'\n",
    "response = requests.get(site_url)\n",
    "if response.status_code == 200:\n",
    "    print(\"request successful\")"
   ]
  },
  {
   "cell_type": "code",
   "execution_count": 9,
   "id": "3a3b47de",
   "metadata": {},
   "outputs": [],
   "source": [
    "soup = BeautifulSoup(response.text, 'html.parser')\n",
    "# print(soup)"
   ]
  },
  {
   "cell_type": "code",
   "execution_count": 10,
   "id": "0b0ce7c9",
   "metadata": {},
   "outputs": [
    {
     "name": "stdout",
     "output_type": "stream",
     "text": [
      "On page 1\n",
      "\n",
      "On page 2\n",
      "\n",
      "On page 3\n",
      "\n",
      "On page 4\n",
      "\n",
      "On page 5\n",
      "\n",
      "On page 6\n",
      "\n",
      "On page 7\n",
      "\n",
      "On page 8\n",
      "\n",
      "On page 9\n",
      "\n",
      "On page 10\n",
      "\n",
      "On page 11\n",
      "\n",
      "On page 12\n",
      "\n",
      "On page 13\n",
      "\n",
      "On page 14\n",
      "\n",
      "On page 15\n",
      "\n",
      "On page 16\n",
      "\n",
      "On page 17\n",
      "\n",
      "On page 18\n",
      "\n",
      "On page 19\n",
      "\n",
      "On page 20\n",
      "\n",
      "On page 21\n",
      "\n",
      "On page 22\n",
      "\n",
      "On page 23\n",
      "\n",
      "On page 24\n",
      "\n",
      "On page 25\n",
      "\n",
      "On page 26\n",
      "\n",
      "On page 27\n",
      "\n",
      "On page 28\n",
      "\n",
      "On page 29\n",
      "\n",
      "On page 30\n",
      "\n",
      "On page 31\n",
      "\n",
      "On page 32\n",
      "\n",
      "On page 33\n",
      "\n",
      "On page 34\n",
      "\n",
      "On page 35\n",
      "\n",
      "On page 36\n",
      "\n",
      "On page 37\n",
      "\n",
      "On page 38\n",
      "\n",
      "On page 39\n",
      "\n",
      "On page 40\n",
      "\n",
      "On page 41\n",
      "\n",
      "On page 42\n",
      "\n",
      "On page 43\n",
      "\n",
      "On page 44\n",
      "\n",
      "On page 45\n",
      "\n",
      "On page 46\n",
      "\n",
      "On page 47\n",
      "\n",
      "On page 48\n",
      "\n",
      "On page 49\n",
      "\n",
      "On page 50\n",
      "\n"
     ]
    }
   ],
   "source": [
    "books_data = []\n",
    "\n",
    "for page_num in range(1, 51):\n",
    "    url = f'https://books.toscrape.com/catalogue/page-{page_num}.html'\n",
    "    response = requests.get(url)\n",
    "    soup = BeautifulSoup(response.content, 'html.parser')\n",
    "\n",
    "    books = soup.find_all('h3')\n",
    "    books_extracted = 0\n",
    "    \n",
    "    print(f'On page {page_num}\\n')\n",
    "\n",
    "    for book in books:\n",
    "        book_url = book.find('a')['href']\n",
    "        book_response = requests.get(site_url + 'catalogue/' + book_url)\n",
    "        book_soup = BeautifulSoup(book_response.content, 'html.parser')\n",
    "\n",
    "\n",
    "        title = book_soup.find('h1').text\n",
    "        category = book_soup.find('ul', class_='breadcrumb').find_all('a')[2].text.strip()\n",
    "        rating = book_soup.find('p', class_='star-rating')['class'][1]\n",
    "        price = book_soup.find('p', class_='price_color').text.strip()\n",
    "        availability = book_soup.find('p', class_='availability').text.strip()\n",
    "\n",
    "        books_extracted += 1\n",
    "        \n",
    "        books_data.append([title, category, rating, price, availability])\n",
    "        \n",
    "#         print(f'{page_num * len(books)} extracted so far..')\n",
    "\n",
    "#         print(f'title: {title}')\n",
    "#         print(f'category: {category}')    \n",
    "#         print(f'rating: {rating}')    \n",
    "#         print(f'price: {price}')    \n",
    "#         print(f'availability: {availability}')\n",
    "#         print('**'*5)\n",
    "    "
   ]
  },
  {
   "cell_type": "code",
   "execution_count": 11,
   "id": "ddf4b002",
   "metadata": {},
   "outputs": [],
   "source": [
    "# for page_num in range(1, 51):\n",
    "#     url = f'https://books.toscrape.com/catalogue/page-{page_num}.html'\n",
    "#     response = requests.get(url)\n",
    "#     soup = BeautifulSoup(response.content, 'html.parser')"
   ]
  },
  {
   "cell_type": "code",
   "execution_count": 12,
   "id": "f8942397",
   "metadata": {},
   "outputs": [
    {
     "data": {
      "text/plain": [
       "1000"
      ]
     },
     "execution_count": 12,
     "metadata": {},
     "output_type": "execute_result"
    }
   ],
   "source": [
    "len(books_data)"
   ]
  },
  {
   "cell_type": "code",
   "execution_count": 15,
   "id": "62763339",
   "metadata": {},
   "outputs": [
    {
     "name": "stdout",
     "output_type": "stream",
     "text": [
      "                                   title            category rating   price  \\\n",
      "0                   A Light in the Attic              Poetry  Three  £51.77   \n",
      "1                     Tipping the Velvet  Historical Fiction    One  £53.74   \n",
      "2                             Soumission             Fiction    One  £50.10   \n",
      "3                          Sharp Objects             Mystery   Four  £47.82   \n",
      "4  Sapiens: A Brief History of Humankind             History   Five  £54.23   \n",
      "\n",
      "              availability  \n",
      "0  In stock (22 available)  \n",
      "1  In stock (20 available)  \n",
      "2  In stock (20 available)  \n",
      "3  In stock (20 available)  \n",
      "4  In stock (20 available)  \n"
     ]
    }
   ],
   "source": [
    "import pandas as pd\n",
    "df = pd.DataFrame(books_data, columns = ['title', 'category', 'rating', 'price', 'availability'])\n",
    "print(df.head())"
   ]
  },
  {
   "cell_type": "code",
   "execution_count": 16,
   "id": "4036b8d4",
   "metadata": {},
   "outputs": [],
   "source": [
    "df.to_csv(\"books_scrap.csv\", index=False)"
   ]
  },
  {
   "cell_type": "code",
   "execution_count": null,
   "id": "ad41d129",
   "metadata": {},
   "outputs": [],
   "source": []
  }
 ],
 "metadata": {
  "kernelspec": {
   "display_name": "Python 3 (ipykernel)",
   "language": "python",
   "name": "python3"
  },
  "language_info": {
   "codemirror_mode": {
    "name": "ipython",
    "version": 3
   },
   "file_extension": ".py",
   "mimetype": "text/x-python",
   "name": "python",
   "nbconvert_exporter": "python",
   "pygments_lexer": "ipython3",
   "version": "3.11.5"
  }
 },
 "nbformat": 4,
 "nbformat_minor": 5
}
